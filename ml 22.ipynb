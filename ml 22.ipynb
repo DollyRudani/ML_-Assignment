{
 "cells": [
  {
   "attachments": {},
   "cell_type": "markdown",
   "metadata": {},
   "source": [
    "Q1:\n",
    "\n",
    "Is there any way to combine five different models that have all been trained on the same training data and have all achieved 95 percent precision? If so, how can you go about doing it? If not, what is the reason ?\n",
    "\n",
    "Hybrid Model: A technique that combines two or more different machine learning models in some way.But we can't get 95 percent precision as all other models give different precision rate accuracy is differend.\n",
    "\n",
    "Q2:\n",
    "\n",
    "What's the difference between hard voting classifiers and soft voting classifiers ?\n",
    "\n",
    "In hard voting (also known as majority voting),every individual classifier votes for a class, and the majority wins.In statistical terms, The predicted target label of the ensemble is the mode of the distribution of individually predicted labels.\n",
    "\n",
    "In soft voting, every individual classifier provides a probability value that a specific data points belongs to a particular target class.The predictions are weighted by the classifier's important and summed up.then the target label with the greatest sum of weighted probabilities wins the vote.\n",
    "\n",
    "Q3:\n",
    "\n",
    "Is it possible to distribute a bagging ensemble's training through several servers to speed up the process? Pasting ensembles, boosting ensembles, Random Forests, and stacking ensembles are all options ?\n",
    "\n",
    "When sampling is performed without replacement,It is called pasting.In other words,both approaches are similar.In both cases you are sampling the training data to bulid multiple instances of a classifier.\n",
    "\n",
    "Boosting is a general ensemble method that creates a strong classifier from a number of weak classifiers.This is done by building a model from the trained data,Then creating a second model that attempts to correct the erroes from the first model.It is the best starting point for understanding boosting.\n",
    "\n",
    "Q4:\n",
    "\n",
    "What is the advantage of evaluating out of the bag ?\n",
    "\n",
    "The advantage of the OOB method is that it requied less computation and allows one to test the model as it is being trained.\n",
    "\n",
    "Q5:\n",
    "\n",
    "What distinguishes Extra-Trees from ordinary Random Forests? What good would this extra randomness do? Is it true that Extra-Tree Random Forests are slower or faster than normal Random Forests ?\n",
    "\n",
    "Random forest uses bootstrap replicas, that is to say, it subsamples the input data with replacement, whereas Extra Tree use the whole origianal sample.This may increase variance because bootstrapping makes it more diversified.\n",
    "\n",
    "Random forest adds additional randomness to the model, while growing the trees.Instead of searching for the most important feature while splitting a node,it searches for the best feature among a random subset of features.This results in a wide diversity that generally results in a better model.Extra Trees is much faster.\n",
    "\n",
    "This is because instead of looking for the optimal split at each node it does it randomly.\n",
    "\n",
    "Q6:\n",
    "\n",
    "Which hyperparameters and how do you tweak if your AdaBoost ensemble underfits the training data ?\n",
    "\n",
    "If your AdaBoost ensemble underfits the training data, you can try incresing the number of estimators or reducing the regularization hyperparameters of the based estimator.You may also try slightly increasing the learning rate.\n",
    "\n",
    "Q7:\n",
    "\n",
    "Should you raise or decrease the learning rate if your Gradient Boosting ensemble overfits the training set ?\n",
    "\n",
    "If your Gradient Boosting ensemble overfits the training set, you should try decreasing the learning rate.You could also use early stooping to find the right number of predictors (you probably have too many)"
   ]
  },
  {
   "attachments": {},
   "cell_type": "markdown",
   "metadata": {},
   "source": []
  }
 ],
 "metadata": {
  "language_info": {
   "name": "python"
  },
  "orig_nbformat": 4
 },
 "nbformat": 4,
 "nbformat_minor": 2
}
