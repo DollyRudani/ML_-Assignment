{
 "cells": [
  {
   "attachments": {},
   "cell_type": "markdown",
   "metadata": {},
   "source": [
    "Q1:\n",
    "\n",
    "What is prior probability? Give an example.\n",
    "\n",
    "Prior probability shows the likelihood of an outcome in a given dataset.For example, in the mortgage case,P(Y) is the default rate on a home mortgage,which is 2%. P(Y|X) is called the conditional probability, which provides the probability of an outcome given the evidence, that is , when the value of X is known."
   ]
  },
  {
   "attachments": {},
   "cell_type": "markdown",
   "metadata": {},
   "source": [
    "Q2:\n",
    "\n",
    "What is posterior probability? Give an example.\n",
    "\n",
    "Posterior probability is a revised probability that takes into account new available information. For example, let there be two urns,urn a having 5 balck balls and 10 red balls and urn B having 10 black balls and 5 red balls."
   ]
  },
  {
   "attachments": {},
   "cell_type": "markdown",
   "metadata": {},
   "source": [
    "Q3:\n",
    "\n",
    "What is likelihood probability? Give an example.\n",
    "\n",
    "Likelihood Function in Machine Learning and Data science is the joint probability distribution(jdp) of the dataset given as a function of the parameter.Think of it as the probability of obtaining the observed data given the parameter values."
   ]
  },
  {
   "attachments": {},
   "cell_type": "markdown",
   "metadata": {},
   "source": [
    "Q4:\n",
    "\n",
    "What is Naïve Bayes classifier? Why is it named so?\n",
    "\n",
    "Naive Bayes is a simple and powerful algorithum for predictive modeling .Naive bayes is called naive because it assumes that each input variable is independent .This is a strong assumption and unrealistic for real data however the techique is very effective on a large range og complex problems."
   ]
  },
  {
   "attachments": {},
   "cell_type": "markdown",
   "metadata": {},
   "source": [
    "Q5:\n",
    "\n",
    "What is optimal Bayes classifier?\n",
    "\n",
    "The Bayes Optimal Classifier is a probabilistic model that makes the most probable prediction for a new example. Bayes Optimal classifier is a probabilistic model that finds the most probable prediction using the training data and space of hypotheisis to make a prediction for a new data instance."
   ]
  },
  {
   "attachments": {},
   "cell_type": "markdown",
   "metadata": {},
   "source": [
    "Q6:\n",
    "Write any two features of Bayesian learning methods.\n",
    "\n",
    "A probabilty distribution over observed data for each posssible hypotheisis.New instances can be classified by combining the predictions of multiple hypotheses, weighted by their probabilities."
   ]
  },
  {
   "attachments": {},
   "cell_type": "markdown",
   "metadata": {},
   "source": [
    "Q7:\n",
    "Define the concept of consistent learners.\n",
    "\n",
    "Consistent Learners: A learner L using a hypothesis H and trained data D is said to be a consistent learner if it always outputs a hypothesis with zero erro on D whenever H contains such a hypothesis * By definition , a consistent learner must produce a hypotheisis in the version space for H given D."
   ]
  },
  {
   "attachments": {},
   "cell_type": "markdown",
   "metadata": {},
   "source": [
    "Q8:\n",
    "\n",
    "Write any two strengths of Bayes classifier.\n",
    "\n",
    "This algorithium works quickly and can save a lot of time.Naive Bayes is suitable for solving multi-class prediction problems.If its assumption of the independence of features holds true,it can perform better than other models and requires much less trained data."
   ]
  },
  {
   "attachments": {},
   "cell_type": "markdown",
   "metadata": {},
   "source": [
    "Q9:\n",
    "\n",
    "Write any two weaknesses of Bayes classifier.\n",
    "\n",
    "The greatest weakness of the naive Bayes classifier is that it relies on an often-faulty assumption of equally important and independent features which results in biased posterior probabilities.\n",
    "\n"
   ]
  },
  {
   "attachments": {},
   "cell_type": "markdown",
   "metadata": {},
   "source": [
    "Q10:\n",
    "\n"
   ]
  },
  {
   "attachments": {},
   "cell_type": "markdown",
   "metadata": {},
   "source": [
    "Explain how Naïve Bayes classifier is used for:\n",
    "\n",
    "Text classification\n",
    "\n",
    "Spam filtering\n",
    "\n",
    "Market sentiment analysis\n",
    "\n",
    "Navie Bayes Classifier is used for:\n",
    "\n",
    "Text classification:\n",
    "\n",
    "The Naive Bayes classifier is a simple classifier that classifier based on probabilities of events.It is the \n",
    "applied commonly to text classification.with the training set,We can train a Naive Bayes classifier which we \n",
    "can use to automaticall categorize a new sentance.\n",
    "\n",
    "Spam Filtering :\n",
    "\n",
    "Naive Bayes classifiers work by correlation the use of tokens (typically words, or sometimes other things),\n",
    "with spam and non-spam e-mails and then using Bayes' theorem to calculate a probability that an email \n",
    "is or is not spam.It is one of the oldest ways of doing spam filtering, with roots in the 1990s.\n",
    "\n",
    "Market sentiment analysis:\n",
    "\n",
    "Market sentiments analysis is the field dedicated to extracting subjective emotions and felling from text.\n",
    "One common use of sentiment analysis is to figure out if a  text expresses negative or positive feelings.\n",
    "Naive bayes is a popular algorithum for classifying text."
   ]
  },
  {
   "attachments": {},
   "cell_type": "markdown",
   "metadata": {},
   "source": []
  }
 ],
 "metadata": {
  "language_info": {
   "name": "python"
  },
  "orig_nbformat": 4
 },
 "nbformat": 4,
 "nbformat_minor": 2
}
