{
 "cells": [
  {
   "attachments": {},
   "cell_type": "markdown",
   "metadata": {},
   "source": [
    "Q1: In the sense of machine learning, what is a model? What is the best way to train a model?\n",
    "\n",
    "A Machine learning models is a file that has been trained to recognize certain types of patterns.You train a model over a set of data, providing it an alogorithum that it can use to reason over and learn from those data.\n",
    "\n",
    "1.Model Naming -Give your model a name,Let's start with giving your model a name, describe your model and attach tags to your model.Tags are to make your model searchable.\n",
    "\n",
    "2.Data Type Selection -Choose data type(Image/Text/CSV),Its time to tell us about the type of data you want to train your model.ML Models support Images,Text and *.CSV (categorical data) data types.\n",
    "\n",
    "3.Data Upload -Upload your data or choose from Public data sets: Choosen from public datasets like jewellery data set (Images),Gender data set(Images),Question or sentence data set (Text),Numeric data set(CSV) or upload your data.\n",
    "\n",
    "4.Type category (label) for the files(images/text file) that you have uploaded and click on submit to begin upload. Wait for some time till our web app uploads all the files.you can upload images for as many categories as possible.\n",
    "\n",
    "5.Start Training- Push the button, to start the training.Now Mateverse's intelligent backend will start with processing the data that you have uploaded and prearing it for the training."
   ]
  },
  {
   "attachments": {},
   "cell_type": "markdown",
   "metadata": {},
   "source": [
    "\n",
    "Q2: In the sense of machine learning, explain the 'No Free Lunch' theorem.\n",
    "\n",
    "The no Free lunch theorem,often abbreviation as NFL or NFLT, is a theoretical finding that suggests all optimization algorithums perform equally well when their performance is averaged over all possible objective functions.In computaional complexity and optimization the no free lunch theorem is a result that states that for certain types of mathematical problems,the coputational cost of finding a solution, averaged over all problems in the class, is the same for any solution method.\n",
    "\n",
    "In Simple Words \"NO free lunch\" theorem means we can't rely o one model to be best of all models.we have to understand data properly and make use of ML understanding and make use of models to find best out of it."
   ]
  },
  {
   "attachments": {},
   "cell_type": "markdown",
   "metadata": {},
   "source": [
    "Q3: Describe the K-fold cross-validation mechanism in detail.\n",
    "\n",
    "In K-fold cross validation, data D is subset into k sunsets randomely.Let us assume S1...Sk are the subset where Sk is the Kth randomely split sunset of data D. In the first iteration,D-S1 is used for training and S1 for testing the model. When the model has been trained and tested,evaluation can be done, score is noted elsewhere and the trained model is discarded.\n",
    "\n",
    "These K-iterations go on where 1/k subset of D is always set aside for testing the data and D-1/k subsets are used for training, evaluating and discarding the model .At the end of all the itterations,average of all the evaluation scores it taken and used as output."
   ]
  },
  {
   "attachments": {},
   "cell_type": "markdown",
   "metadata": {},
   "source": [
    "\n",
    "Q4: Describe the bootstrap sampling method. What is the aim of it?\n",
    "\n",
    "The bootstrap method is a statistical technique for estimation quantities about a population by averaging estimates from multiple small data samples.\n",
    "\n",
    "Importantly, samples are constructed by drawing observations from a large data sample one at a time and returning them to the data sample after they have been chosen.This allows a given observation to be included in the given small sample more than once.This approch to sampling is called sampling with replacement."
   ]
  },
  {
   "attachments": {},
   "cell_type": "markdown",
   "metadata": {},
   "source": [
    "Q5: What is the significance of calculating the Kappa value for a classification model? Demonstrate\n",
    "how to measure the Kappa value of a classification model using a sample collection of results.\n",
    "\n",
    "Kappa value or cohen's kappa coefficient is a evaluation matric for classification models. Its signinficance as an evaluation metric is that it can be used to evaluate multi class classification models and also works on models trained on imbalanced datasets(scores like accuracy scores fail for imbalanced datasets).\n",
    "\n",
    "In simpler words It basically tells you how much better your classifier is performing over the performance of a classifier that simply guesses at random according to the frequency of each class. Cohen's kappa is always less than or equal to 1.values of 0 or less , indicate that the classifier is useless Cohen suggested the Kappa result be interpreted as follows: values <=0 as indicating no agreement and 0.01-0.20 as none to slight, 0.21-0.40 as fair, 0.41-0.60 as moderated ,0.61-0.80 as substitial, and 0.81-1.00 as almost prefect agreement."
   ]
  },
  {
   "attachments": {},
   "cell_type": "markdown",
   "metadata": {},
   "source": [
    "Q6: Describe the model ensemble method. In machine learning, what part does it play?\n",
    "\n",
    "Ensemble method or ensemble machine learning models are models where more than one models are being used spontaneously to produce better results than individually trained models."
   ]
  },
  {
   "attachments": {},
   "cell_type": "markdown",
   "metadata": {},
   "source": [
    "Q7: What is a descriptive model's main purpose? Give examples of real-world problems that\n",
    "descriptive models were used to solve.\n",
    "\n",
    "A descriptive model is used for tasks that would benifit from the insight gained from summerizing data in new and interesting ways.As opposed to predictive models that predict a target of interest,in a descriptive model,no single feature is more important than any other.In fact, because there is no target to learn, the process of training a descriptive model is called unsupervised learning.\n",
    "\n",
    "It is used in customer classification as real life problem."
   ]
  },
  {
   "attachments": {},
   "cell_type": "markdown",
   "metadata": {},
   "source": [
    "Q8: Describe how to evaluate a linear regression model.\n",
    "\n",
    "Evaluation of a linear regression model can be done using R-square.R square is calculated as the sum of squared errors in predictions made,divided by summation of all sum of squares.R square measures how much of the change in target variable can be explained by the linear regressor.Its value ranges from 0 and 1 where 0 means poor preformance and 1 means good.Some other technique which can be used to evaluate a linear regression model are :\n",
    "\n",
    "1.Mean square Error (MSE)/Root Mean Square Error (RMSE)\n",
    "\n",
    "2.Mean Absolute Error(MAE)"
   ]
  },
  {
   "attachments": {},
   "cell_type": "markdown",
   "metadata": {},
   "source": [
    "Q9: Describe how to evaluate a linear regression model.\n",
    "\n",
    "Evaluation of a linear regression model can be done using R-square.R square is calculated as the sum of squared errors in predictions made,divided by summation of all sum of squares.R square measures how much of the change in target variable can be explained by the linear regressor.Its value ranges from 0 and 1 where 0 means poor preformance and 1 means good.Some other technique which can be used to evaluate a linear regression model are :\n",
    "\n",
    "1.Mean square Error (MSE)/Root Mean Square Error (RMSE)\n",
    "\n",
    "2.Mean Absolute Error(MAE)\n",
    "\n",
    "Distinguish :\n",
    "\n",
    "Descriptive vs. predictive models\n",
    "\n",
    "Underfitting vs. overfitting the model\n",
    "\n",
    "Bootstrapping vs. cross-validation\n",
    "\n",
    "The differences between:\n",
    "\n",
    "1.Descriptive vs. predictive models\n",
    "\n",
    "*Descriptive models are built to identify trends and underlying patterns.\n",
    "\n",
    "*Predictive models are built to predict a dependent variable value.\n",
    "\n",
    "*Most of descriptive models are built using unsupervised machine learning.\n",
    "\n",
    "*Most of predictive models are built using classification and regression models.\n",
    "\n",
    "*Example for descriptive model: Finding why consumers are engaging more with a social media post.\n",
    "\n",
    "*Example for predictive model: Predicting the chances of cancer in a patient.\n",
    "\n",
    "2.Underfitting vs. overfitting the model\n",
    "\n",
    "*Underfitting is a situation arising when the hypothesis is way too simple, or when the machine learning model is way too simple to produce good results.\n",
    "\n",
    "*Overfitting is a situation arising when the hypothesis is way too complex, or when the machine learning model is way too complex to produce good results.\n",
    "\n",
    "*Underfitting causes a model to produce poor results due to heavily simplified algorithm reacting lightly to changes in the unseen data for independent variables from the training data.\n",
    "\n",
    "*Overfitting makes a model produce poor results due to slightest variations in the unseen data for independent variables from the training data\n",
    "\n",
    "*Underfitting is also called High Bias.\n",
    "\n",
    "*Overfitting is also called High variance\n",
    "\n",
    "3.Bootstrapping vs cross-validation\n",
    "\n",
    "*Boostrap sampling is a method of sampling in which the repeated sampling is done with replacement using a data D in random draws over which machine learning models are trained for better performance.\n",
    "\n",
    "*Cross validation is a method used to check the efficacy of the machine learning model on test data.\n",
    "\n",
    "*End goal of bootstrapping is to reduce overfitting and increase performance.\n",
    "\n",
    "*End goal of cross validation is only to produce test scores to check efficacy of model\n",
    "\n",
    "*Bootstrapping is best employed in Random Forest Classifier.\n",
    "\n",
    "*Cross Validation is best employed using K-fold cross validation technique."
   ]
  },
  {
   "attachments": {},
   "cell_type": "markdown",
   "metadata": {},
   "source": [
    "Q10: Make quick notes on:\n",
    "\n",
    "A: LOOCV.\n",
    "\n",
    "B: F-measurement\n",
    "\n",
    "C: The width of the silhouette\n",
    "\n",
    "D: Receiver operating characteristic curve\n",
    "\n",
    "The Quick notes on: LOOCV or Leave One out cross Validation is a form of K-fold cross validation where only one observation is left out for validation purpose while the rest of the data is used for model training each iteration.It is computaionally taxing and should only be used for data with low dimensionality.\n",
    "\n",
    "Harmonic mean of Precision score and recall score is called F-measurement or F-score.It is formulated as 2 (pr re )/pr +re where pr is precision score and re is recall score.\n",
    "\n",
    "Estimate of average inter cluster distance to give efficancy/performance of cluster algorithum is called width of the silhouette.It can also be defined as how indentical/similar a data point \"x\" is to the data points inside the cluster to which x is assigned.Its value ranges from -1 to 1 where 1 means good and -1 means bad.\n",
    "\n",
    "Curve plotted between True Positive Rate and False Positive Rate is Reciever Operating Characteristic curve and is used to find the area under the curve for ROC-AUC score for binary classifiaction evaluation.true positive Rate and False Positive Rate are calculated for different threshold values where thresholds take values starting from the highest probility scores assigned to data points and goes up to the lowest probability score.The curve is impacted by presence of outliers, and simple models. Extention can be made to this curve to suit multiclass classification evaluation requirements."
   ]
  },
  {
   "attachments": {},
   "cell_type": "markdown",
   "metadata": {},
   "source": []
  }
 ],
 "metadata": {
  "language_info": {
   "name": "python"
  },
  "orig_nbformat": 4
 },
 "nbformat": 4,
 "nbformat_minor": 2
}
