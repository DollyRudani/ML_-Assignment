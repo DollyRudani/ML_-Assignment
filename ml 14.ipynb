{
 "cells": [
  {
   "attachments": {},
   "cell_type": "markdown",
   "metadata": {},
   "source": [
    "Q1: \n",
    "\n",
    "What is the concept of supervised learning? What is the significance of the name ?\n",
    "\n",
    "Supervised learning, also known as supervised machine learning, is a subcategory of machine learning and artificial intelligence.It is defined by its use of labeled datasets to train algorithum that to classify data or predict outcomes accurately."
   ]
  },
  {
   "attachments": {},
   "cell_type": "markdown",
   "metadata": {},
   "source": [
    "Q2:\n",
    "\n",
    "In the hospital sector, offer an example of supervised learning ?\n",
    "\n",
    "Supervised learning used a training set to teach models to yield the desired output.This training dataset includes input and correct outputs, which allow the model to learn over time.The algorithum measures its accuracy through the loss function, adjusting until the error has been sufficiently minimized."
   ]
  },
  {
   "attachments": {},
   "cell_type": "markdown",
   "metadata": {},
   "source": [
    "Q3:\n",
    "\n",
    "Give three supervised learning examples ?\n",
    "Example of supervised learning algorithuma are:\n",
    "\n",
    "Linera Regression .\n",
    "\n",
    "Nearest Neighbor.\n",
    "\n",
    "Gussian Native Bayes.\n",
    "\n",
    "Decision Vector Machine (SVM)\n",
    "\n",
    "Random forest."
   ]
  },
  {
   "attachments": {},
   "cell_type": "markdown",
   "metadata": {},
   "source": [
    "Q4:\n",
    "\n",
    "In supervised learning, what are classification and regression ?\n",
    "\n",
    "Fundamentally,classification is about predicting a label and regression is about prediction a quantity.That classification is a problem of predicting a discrete class label output for an example. That regression is the problem of predicting a continuous quantity output for an example."
   ]
  },
  {
   "attachments": {},
   "cell_type": "markdown",
   "metadata": {},
   "source": [
    "Q5:\n",
    "Give some popular classification algorithms as examples ?\n",
    "\n",
    "Popular algorithum that can be used for multi-class classification include:\n",
    "\n",
    "K-Nearest Neighbors \n",
    "\n",
    "Decision Trees.\n",
    "\n",
    "Naive Bayes"
   ]
  },
  {
   "attachments": {},
   "cell_type": "markdown",
   "metadata": {},
   "source": [
    "Q6:\n",
    "\n",
    "Briefly describe the SVM model ?\n",
    "\n",
    "A support vector machine (SVM) is a supervised machine learning model that uses classification algorithums for two- group classification problems. After giving an SVM model sets of labeled training data for each category,They're able to categorize new text."
   ]
  },
  {
   "attachments": {},
   "cell_type": "markdown",
   "metadata": {},
   "source": [
    "Q7:\n",
    "\n",
    "In SVM, what is the cost of misclassification ?\n",
    "\n",
    "In cost-sensitive learning instead of each instance being either correctly or incorrectly classified, each class (or instance) is given misclassification cost. Thus, instead of trying to optimize the accuracy, the problem is then to minimize the total misclassification cost."
   ]
  },
  {
   "attachments": {},
   "cell_type": "markdown",
   "metadata": {},
   "source": [
    "Q8:\n",
    "\n",
    "In the SVM model, define Support Vectors ?\n",
    "\n",
    "Support vectors are data points that are closed to the hyperplane and influence the position and orientation of the hyperplane.Using these support vectors,we maximize the margin of the classifier.Deleting the support vectors will change the position of the hyperplane.These are the points that help us build our SVM."
   ]
  },
  {
   "attachments": {},
   "cell_type": "markdown",
   "metadata": {},
   "source": [
    "Q9:\n",
    "\n",
    "In the SVM model, define the kernel ?\n",
    "\n",
    "SVM algorithum use a set of mathematical functions that are defined as the kernel.The function of kernel is to take data as input and transform it into the required form.Those function can be different types.For example linear, nonlinear, Polyonmial,radial basis function (RBF), and sigmoid."
   ]
  },
  {
   "attachments": {},
   "cell_type": "markdown",
   "metadata": {},
   "source": [
    "Q10:\n",
    "\n",
    "What are the factors that influence SVM's effectiveness ?\n",
    "\n",
    "SVM or support vector Machine is a linear model for classification and regression problems.It can solve linear and non-linear problems and work well for many practical problems.The idea of SVM is simple The algorithum creates a line or a hyperplane which seperates the data into classes."
   ]
  },
  {
   "attachments": {},
   "cell_type": "markdown",
   "metadata": {},
   "source": [
    "Q11:\n",
    "What are the benefits of using the SVM model ?\n",
    "\n",
    "SVM works relatively well when their is a clear margin of seperation between classes.SVM is more effective in high dimentional spaces.SVM is effective in cases where the number of dimensions is greater than the number of samples. SVM is relatively memory efficient."
   ]
  },
  {
   "attachments": {},
   "cell_type": "markdown",
   "metadata": {},
   "source": [
    "Q12:\n",
    "\n",
    "What are the drawbacks of using the SVM model ?\n",
    "\n",
    "\n",
    "SVM algorithum is not suitable for large data sets.SVM does not perform well when the data set has more noise i.e. target classes are overlapping. In cases where the number of features for each data point exceeds the number of training data samples the SVM will underperform"
   ]
  },
  {
   "attachments": {},
   "cell_type": "markdown",
   "metadata": {},
   "source": [
    "Q13:\n",
    "\n",
    "Notes should be written on\n",
    "The kNN algorithm has a validation flaw.\n",
    "\n",
    "In the kNN algorithm, the k value is chosen.\n",
    "\n",
    "A decision tree with inductive bias\n",
    "\n",
    "The Short notes has a validation flaw.\n",
    "\n",
    "The KNN algorithum low accuracy knn is caused by several factors.One of them is that every characterisic of the method has the same result on calulatiing distance .The solution of this problem is to give weight to each data characteristic.\n",
    "\n",
    "In the KNN algorithum the k value is chosen.\n",
    "\n",
    "The optimal K value usually found is the square root of N, Where N is the total number of samples.use an error plot or accuracy plot to find the most favorable K value. KNN performs well with multi label classes, but you must be aware of the outliers.\n",
    "\n",
    "A decision tree with inductive bias\n",
    "\n",
    "Shorter tree are preferred over longer ones.Trees that place high information gain attributes close to the root are preferred over those that do not."
   ]
  },
  {
   "attachments": {},
   "cell_type": "markdown",
   "metadata": {},
   "source": [
    "Q14:\n",
    "\n",
    "What are some of the benefits of the kNN algorithm ?\n",
    "Some Advantages of KNN are:\n",
    "\n",
    "Quick calculaation time \n",
    "\n",
    "simple algorithium -to interpret\n",
    "\n",
    "verstile-useful for regression and classification\n",
    "\n",
    "high accuracy-you do need to compare with better-supervise learning models."
   ]
  },
  {
   "attachments": {},
   "cell_type": "markdown",
   "metadata": {},
   "source": [
    "Q15:\n",
    "\n",
    "What are some of the kNN algorithm's drawbacks ?\n",
    "Some Disadantages of KNN are:\n",
    "\n",
    "Accuracy depends on the quality of the data.\n",
    "\n",
    "with large data, the prediction stage might be slow.\n",
    "\n",
    "sensitive to the scale of the data and irrelevat features.\n",
    "\n",
    "Reqired high memory-need to store all of the training data.\n",
    "\n",
    "Given that it stores all of the training, it can be computationally expensive."
   ]
  },
  {
   "attachments": {},
   "cell_type": "markdown",
   "metadata": {},
   "source": [
    "Q16:\n",
    "\n",
    "Explain the decision tree algorithm in a few words ?\n",
    "\n",
    "A decision tree is a graphical representation of all the possible solution to a decision based on cretain condition. Tree models where the target variable can take a finite set of values are called classification trees and target variable ca take continuos values (numbers) are called regression trees."
   ]
  },
  {
   "attachments": {},
   "cell_type": "markdown",
   "metadata": {},
   "source": [
    "Q17:\n",
    "\n",
    "What is the difference between a node and a leaf in a decision tree ?\n",
    "\n",
    "A decision tree is a flowchart-like structure in which each internal node represents a \"test\" on an attribute (e.g. whether a coin flip comes up heads or tails), each branch represents the outcome of the test, and each leaf node represents a clas label (decision taken after computing all attributes)."
   ]
  },
  {
   "attachments": {},
   "cell_type": "markdown",
   "metadata": {},
   "source": [
    "Q18:\n",
    "\n",
    "What is a decision tree's entropy ?\n",
    "\n",
    "Entropy helps us to build an appropriate decision tree for selecting the best splitter.Entropy can be defined as a measure of the purity of the sub split.Entropy always lies between 0 and 1. The entropy of any split can be calculate by this formula."
   ]
  },
  {
   "attachments": {},
   "cell_type": "markdown",
   "metadata": {},
   "source": [
    "Q19:\n",
    "\n",
    "In a decision tree, define knowledge gain ?\n",
    "\n",
    "Information gain is the reduction in entropy or surprise by transforming a dataset and is often used in training decision tree.Information gain is calculated by comparing the entropy of the dataset before and after a transformation"
   ]
  },
  {
   "attachments": {},
   "cell_type": "markdown",
   "metadata": {},
   "source": [
    "Q20:\n",
    "\n",
    "Choose three advantages of the decision tree approach and write them down ?\n",
    "Advantages of decision trees :\n",
    "\n",
    "Easy to read and intrepret. One of the advantages of decision trees is that their output are easy to read interpret     without requiring statistical knowledge.\n",
    "\n",
    "Easy to prepare.\n",
    "\n",
    "Less data cleaning required.\n"
   ]
  },
  {
   "attachments": {},
   "cell_type": "markdown",
   "metadata": {},
   "source": [
    "Q21:\n",
    "\n",
    "Make a list of three flaws in the decision tree process ?\n",
    "Issues in decision tree learning :\n",
    "\n",
    "Overfitting the data.\n",
    "\n",
    "Guarding against bad attribute choices.\n",
    "\n",
    "Handling contineous valued attributes.\n",
    "\n",
    "Handling missing attribute values.\n",
    "\n",
    "Handling attributes with different costs."
   ]
  },
  {
   "attachments": {},
   "cell_type": "markdown",
   "metadata": {},
   "source": [
    "Q22:\n",
    "\n",
    "Briefly describe the random forest model ?\n",
    "\n",
    "The random forest is a classification algorithum consisting of many decision trees. It used bagging and feature randomness when building each indicidual tree to try to create an uncorrelated forest of trees whose prediction by committee is more accurate than that of any individual tree."
   ]
  }
 ],
 "metadata": {
  "language_info": {
   "name": "python"
  },
  "orig_nbformat": 4
 },
 "nbformat": 4,
 "nbformat_minor": 2
}
