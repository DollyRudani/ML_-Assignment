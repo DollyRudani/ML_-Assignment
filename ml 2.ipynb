{
 "cells": [
  {
   "attachments": {},
   "cell_type": "markdown",
   "metadata": {},
   "source": [
    "Q1: What is the concept of human learning? Please give two examples ?\n",
    "Ans.Human learning is the form of learning which higher order mental processes like thiking ,reasoning , intelligence,etc.we learn different concept from childhood. For example:\n",
    "\n",
    "1.Learning through Association -classical conditioning.\n",
    "\n",
    "2. Learning through consequences-Operant Conditioning.\n",
    "\n",
    "3.Learning through observation- Modeling/Observation Learning."
   ]
  },
  {
   "attachments": {},
   "cell_type": "markdown",
   "metadata": {},
   "source": [
    "Q2: What different forms of human learning are there? Are there any machine learning equivalents ?\n",
    "Different form of ML are as follows :\n",
    "\n",
    "1.Artificial Intelligence Learning Theories.Machine Learning .Reinforcement learning.supervised learning .\n",
    "unsupervised learing.\n",
    "\n",
    "2.ML equivalent like linear regression,decision trees ,random forsest and support vector machine are some commonly\n",
    "used techninques that are actually examples of supervised learning."
   ]
  },
  {
   "attachments": {},
   "cell_type": "markdown",
   "metadata": {},
   "source": [
    "Q3: What is machine learning, and how does it work? What are the key responsibilities of machine learning ?\n",
    "Machine learning is a branch of Artificial intelligence (AI) that teaches computers on how to think in a similar way to how humans do,like by learning and improving upon past experiences.\n",
    "\n",
    "1.It works by exploring data and identifying patterns, and involves minimals human intervention. roles and resposibilites of machine learning engineer are:\n",
    "\n",
    "-Designing ML systems.\n",
    "\n",
    "-Researchig and implementing ML algorithums and tools. Selecting appropriate data sets.\n",
    "\n",
    "-Picking appropriate data representation methods.Identifying difference in data distribution that affects model performence.Verifying data quality."
   ]
  },
  {
   "attachments": {},
   "cell_type": "markdown",
   "metadata": {},
   "source": [
    "Q4: Define the terms \"penalty\" and \"reward\" in the context of reinforcement learning ?\n",
    "\n",
    "A Reinforcement Learning Algorithum,which may also be referrred to as an agent,learns by interacting with its environment.The agent recieves reward by performing correctly and penalties for performing incorrectly.The agent learns without intervention from a human by maximizing its reward and minimizating its penalty."
   ]
  },
  {
   "attachments": {},
   "cell_type": "markdown",
   "metadata": {},
   "source": [
    "Q5: Explain the term \"learning as a search\" ?\n",
    "\n",
    "Learning can be viewed as a search throught the space og all sentences in the concept description language for a sentence that best describes the data.Alternatively,it can be viewed as a search through all hypotheses in a hypothesis space."
   ]
  },
  {
   "attachments": {},
   "cell_type": "markdown",
   "metadata": {},
   "source": [
    "Q6: What are the various goals of machine learning? What is the relationship between these and human learning ?\n",
    "\n",
    "The Goal of machine learning,closely coupled with the goal of AI.is to achieve a through understanding about the nature of learning process (both human leaning and other forms osf learning),about the computational aspects of learing behaviour,and to implant th learning capability in computer systems.\n",
    "\n",
    "Human have the ability to learn,however with the progress in artificial intelligence,machine learning has become a resource which can augment or even replace human leaning.Learning does not happen all at once, but it bulids upon and is shaped by previous knowledge."
   ]
  },
  {
   "attachments": {},
   "cell_type": "markdown",
   "metadata": {},
   "source": [
    "Q7: Illustrate the various elements of machine learning using a real-life illustration ?\n",
    "\n",
    "The various elements of the Machine learning are: 1.Data 2.Task 3.Model 4.Loss Function 5.Learning Algorithum 6.Elaluation"
   ]
  },
  {
   "attachments": {},
   "cell_type": "markdown",
   "metadata": {},
   "source": [
    "Q8: Provide an example of the abstraction method ?\n",
    "\n",
    "In Machine Learing,abstraction is supported primarily at the level of modules.This can be justified in two ways :First,Data abstraction is mostly a question of program iterfaces and therefore it arises naturally at the point where we have to consider program composition and modules."
   ]
  },
  {
   "attachments": {},
   "cell_type": "markdown",
   "metadata": {},
   "source": [
    "Q9: What is the concept of generalization? What function does it play in the machine learning process ?\n",
    "\n",
    "Generalization refers to your model's ability to adapt properly to new, previousely unseen data,drawm from the same distribution as the one used to create the model.\n",
    "\n",
    "In machine learning,generalization is a definition to demonestrate how well is a trained model to classify or forecast unseen data.This issue can result to classify an actual dog image as a cat from the unseen dataset. Therefore ,data diversity is very important factor in order to make a good prediction."
   ]
  },
  {
   "attachments": {},
   "cell_type": "markdown",
   "metadata": {},
   "source": [
    "Q10: What is classification, exactly? What are the main distinctions between classification and regression ?\n",
    "\n",
    "In machine learning,classification refers to a predictive modeling problem where a class label is predicted for a given example of input data.Classification is the task of predicting a discrete class lable.Whereas Regression is the task of predicting a continuous quantity."
   ]
  },
  {
   "attachments": {},
   "cell_type": "markdown",
   "metadata": {},
   "source": [
    "Q11: What is regression, and how does it work? Give an example of a real-world problem that was solved using regression ?\n",
    "\n",
    "Regression is a Supervised Machine learning techinique which is used to predict contineous values.The ultimate goal of a regression algorithum is to plot a best-fit line or a curve between the date.\n",
    "\n",
    "The three main matrics that are used for evluating the trained regression model are variance,Bias and error.\n",
    "\n",
    "A simple linear regression real life example could mean you finding a relationship between the revenue and temerature, with a sample size for revenue as the dependent variable.In case of multiple variable regression,you can find the relationship between temerature, pricing and number of workers to the revenue."
   ]
  },
  {
   "attachments": {},
   "cell_type": "markdown",
   "metadata": {},
   "source": [
    "Q12: Describe the clustering mechanism in detail ?\n",
    "\n",
    "Clustering is the task of dividing the populatio or data points into a number of groups such that data points in the same groups are more similar to other data points in the same group than those in other groups. In simple words,the aim is to segregate groups with similar traits and assign them into clusters."
   ]
  },
  {
   "attachments": {},
   "cell_type": "markdown",
   "metadata": {},
   "source": [
    "Q13: Make brief observations on two of the following topics ?\n",
    "\n",
    "1.Machine learning algorithms are used\n",
    "\n",
    "2.Studying under supervision\n",
    "\n",
    "3.Studying without supervision\n",
    "\n",
    "4.Reinforcement learning is a form of learning based on positive reinforcement.\n",
    "\n",
    "The brief observations on the following two topics is : Machine learning algorithum are used:At its Most basic ,Machine learing uses programmed algorithums that recieve and analyse input data to predict output values within an acceptable range.As new data is fed to those algorithum, They learn and optimise their operations to improve performance,devolopig intelligence over time.\n",
    "\n",
    "Studying under supervision:In machine learning,there are two imporant categories-Supervised and unsupervised learning.Supervised learning,an algorithum learns from a training dataset.we know the correct answers or desired output, the algorithum makes predictions using the given dataset and is corrected bu the \"supervisor\""
   ]
  },
  {
   "attachments": {},
   "cell_type": "markdown",
   "metadata": {},
   "source": []
  }
 ],
 "metadata": {
  "language_info": {
   "name": "python"
  },
  "orig_nbformat": 4
 },
 "nbformat": 4,
 "nbformat_minor": 2
}
