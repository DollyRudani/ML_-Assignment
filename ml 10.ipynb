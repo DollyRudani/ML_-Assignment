{
 "cells": [
  {
   "attachments": {},
   "cell_type": "markdown",
   "metadata": {},
   "source": [
    "Q1: Define the Bayesian interpretation of probability.\n",
    "\n",
    "Bayesian probability is the study of subjective probabilities or belief in an outcome, compared to the frequentist approach where probabilities are based purely on the past occurence of the event.A Bayesian Network captures the joint probabilities of the events represented by the model."
   ]
  },
  {
   "attachments": {},
   "cell_type": "markdown",
   "metadata": {},
   "source": [
    "Q2: Define probability of a union of two events with equation.\n",
    "\n",
    "The general probability addition rule for the union of two events states that P(AUB)=P(A)+P(B)-P(A∩B), Where A∩B is the intersection of the two sets."
   ]
  },
  {
   "attachments": {},
   "cell_type": "markdown",
   "metadata": {},
   "source": [
    "Q3: What is joint probability? What is its formula?\n",
    "\n",
    "Probabilities are combined using multiplication,therefore the join probability of independent events is calculated as the probability of event A multiplied by the probability of event B.This can be stated formally as follows: Joint Probability :P(A and B) =P(A)*P(B)"
   ]
  },
  {
   "attachments": {},
   "cell_type": "markdown",
   "metadata": {},
   "source": [
    "Q4: What is chain rule of probability?\n",
    "\n",
    "The chain rule,or general product rule,calculates any components of the join distribution of set of random variable using only conditional probailities.This probability theory is used as a foundation for backpropagaation and in creating bayesian networks."
   ]
  },
  {
   "attachments": {},
   "cell_type": "markdown",
   "metadata": {},
   "source": [
    "Q5:What is conditional probability means? What is the formula of it?\n",
    "\n",
    "Conditional probaility is defined as the likelihood of an event or outcome occurring,based on the occurrence of a previous events or outcome.\n",
    "\n",
    "Conditional probability is calculated by multiplying the probability of the preceding event by the updated probability of the succeeding, or conditional,event.\n",
    "\n",
    "Let's take a real-life example.Probability of selling a TV on a given normal day may be only 30%. But if we consider that given day is diwali,then there are much more chances of selling a TV.The conditional Probability of selling a TV on a day given that Day is Diwali might be 70%."
   ]
  },
  {
   "attachments": {},
   "cell_type": "markdown",
   "metadata": {},
   "source": [
    "Q6: What are continuous random variables?\n",
    "\n",
    "A continuous random variable X takes all values in a given interval of number\n",
    "\n",
    "-The probability distribution of a continuous random variable is shown by a density curve\n",
    "\n",
    "-The probability that X is between an interval of number is the area under the density curve between interval endpoints."
   ]
  },
  {
   "attachments": {},
   "cell_type": "markdown",
   "metadata": {},
   "source": [
    "Q7: What are Bernoulli distributions? What is the formula of it?\n",
    "\n",
    "A Bernoulli distribution is a discrete probability distribution for a Bernoulli trail - a random experiment that has only two outcomes (usually called a Sucess or a Failure) .The expected value for a random variable,X.\n",
    "\n",
    "For a Bernoulli distribution is :E[X] =p.For example,if p=0.04, then E[X]=0.4"
   ]
  },
  {
   "attachments": {},
   "cell_type": "markdown",
   "metadata": {},
   "source": [
    "Q8: What is binomial distribution? What is the formula?\n",
    "\n",
    "The binomial is a type of distribution that has two possible outcomes (the prefix \"bi\" means two,or twice).For example, a coin toss has only two possible outcomes :heads or tails and taking a test could have two possible outcomes : pass or fail.\n",
    "\n",
    "A Biomial Distribution shows either (S)ucess or (F)ailure."
   ]
  },
  {
   "attachments": {},
   "cell_type": "markdown",
   "metadata": {},
   "source": [
    "Q9: What is Poisson distribution? What is the formula?\n",
    "\n",
    "A poission distraction is defined as a distcrete frequency distribution that gives the probability of the number of independent events that occur in the fixed time.\n",
    "\n",
    "In statistics,a Poisson distribution is a probability distribution that is used to show how many times an event is likely to occur over a specified period......The poission distribution is a discrete function, meaning that the variable can only takes specific values in a (potentially infinite) list.\n"
   ]
  },
  {
   "attachments": {},
   "cell_type": "markdown",
   "metadata": {},
   "source": [
    "Q10: Define covariance.\n",
    "\n",
    "Coveriance is a measurement of how much two random variables vary together.It's similar to variance,but where variance tells you how a single variable varries,co variance tells you how two variable vary together."
   ]
  },
  {
   "attachments": {},
   "cell_type": "markdown",
   "metadata": {},
   "source": [
    "Q11:\n",
    "Define correlation\n",
    "\n",
    "Correlation explains how one or more variables are related to each other.These variables can be input data features which have been used to forcast out target variable .It's a bi-variate analysis measure which describes the association between different variables."
   ]
  },
  {
   "attachments": {},
   "cell_type": "markdown",
   "metadata": {},
   "source": [
    "Q12: Define sampling with replacement. Give example.\n",
    "\n",
    "If you sample with replacement,you would cloose one person's name,put that person's name back in that hat,and then choose another name.The posssibilities for your two-name sample are : John,John. John, Jack."
   ]
  },
  {
   "attachments": {},
   "cell_type": "markdown",
   "metadata": {},
   "source": [
    "Q13: What is sampling without replacement? Give example.\n",
    "\n",
    "In sampling without repplacement,each sample unit of the population has only one chance to be selected in the sample.For example, if one draws a sample random sample such that no unit occurs more than one time in the sample, the sample is drawn without repacement."
   ]
  },
  {
   "attachments": {},
   "cell_type": "markdown",
   "metadata": {},
   "source": [
    "Q14:\n",
    "What is hypothesis? Give example.\n",
    "\n",
    "A hypothesis (plural hypotheses) is a proposed explanation for a phenomenon.For a hypothesis to be a scientific hypothesis,the scientific method requires that one can test it....Even through the words \"hypothesis\" and \"theory\" are often used synonymously,a scientific hypothesis is not the same as a scientific theory.\n",
    "\n",
    "Examples of hypothesis statements :If garlic repels fleas,then a dog that is given garlic everyday will not get fleas.Bacterial growth may be affected by moisture levels in the air.If sugar causes cavities,then people who eat a lot of candy may be more prone to cavities.\n",
    "\n",
    " "
   ]
  },
  {
   "attachments": {},
   "cell_type": "markdown",
   "metadata": {},
   "source": []
  }
 ],
 "metadata": {
  "language_info": {
   "name": "python"
  },
  "orig_nbformat": 4
 },
 "nbformat": 4,
 "nbformat_minor": 2
}
